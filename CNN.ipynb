{
  "nbformat": 4,
  "nbformat_minor": 0,
  "metadata": {
    "colab": {
      "provenance": []
    },
    "kernelspec": {
      "name": "python3",
      "display_name": "Python 3"
    },
    "language_info": {
      "name": "python"
    }
  },
  "cells": [
    {
      "cell_type": "code",
      "execution_count": null,
      "metadata": {
        "id": "zmSqw0PYJnSA"
      },
      "outputs": [],
      "source": [
        "import tensorflow as tf\n",
        "from tensorflow.keras import datasets, layers, models\n",
        "from keras.layers import Conv2D\n",
        "import numpy as np\n",
        "import matplotlib.pyplot as plt"
      ]
    },
    {
      "cell_type": "code",
      "source": [
        "(x_train, y_train), (x_test, y_test)=datasets.cifar10.load_data()"
      ],
      "metadata": {
        "id": "G4ef5Bw6JrpZ",
        "colab": {
          "base_uri": "https://localhost:8080/"
        },
        "outputId": "ff6d2c45-0bcc-4074-b7d0-3040a2fbb82a"
      },
      "execution_count": null,
      "outputs": [
        {
          "output_type": "stream",
          "name": "stdout",
          "text": [
            "Downloading data from https://www.cs.toronto.edu/~kriz/cifar-10-python.tar.gz\n",
            "170498071/170498071 [==============================] - 11s 0us/step\n"
          ]
        }
      ]
    },
    {
      "cell_type": "code",
      "source": [
        "print(x_train.shape,x_test.shape) #3 for 3 dimensional array rgb channels"
      ],
      "metadata": {
        "colab": {
          "base_uri": "https://localhost:8080/"
        },
        "id": "jbaixrtGMMlr",
        "outputId": "ee0fe8b3-65f0-4274-bc96-fa43999e97be"
      },
      "execution_count": null,
      "outputs": [
        {
          "output_type": "stream",
          "name": "stdout",
          "text": [
            "(50000, 32, 32, 3) (10000, 32, 32, 3)\n"
          ]
        }
      ]
    },
    {
      "cell_type": "code",
      "source": [
        "y_train=y_train.reshape(-1,)\n",
        "y_test=y_test.reshape(-1,)\n",
        "y_train,y_test"
      ],
      "metadata": {
        "colab": {
          "base_uri": "https://localhost:8080/"
        },
        "id": "hA-oszlaMpgU",
        "outputId": "b840fd74-92ed-44c4-dd5a-dafcbf57bbba"
      },
      "execution_count": null,
      "outputs": [
        {
          "output_type": "execute_result",
          "data": {
            "text/plain": [
              "(array([6, 9, 9, ..., 9, 1, 1], dtype=uint8),\n",
              " array([3, 8, 8, ..., 5, 1, 7], dtype=uint8))"
            ]
          },
          "metadata": {},
          "execution_count": 7
        }
      ]
    },
    {
      "cell_type": "code",
      "source": [
        "classes=['airplane', 'automobile','bird','cat','deer','dog','frog','horse','ship','truck']"
      ],
      "metadata": {
        "id": "cVmj1FVsON-m"
      },
      "execution_count": null,
      "outputs": []
    },
    {
      "cell_type": "code",
      "source": [
        "def plot_sample(x,y,index):\n",
        "  plt.figure(figsize=(10,3))\n",
        "  plt.imshow(x[index])\n",
        "  plt.xlabel((classes[y[index]]))"
      ],
      "metadata": {
        "id": "8sKJnxYDrOxC"
      },
      "execution_count": null,
      "outputs": []
    },
    {
      "cell_type": "code",
      "source": [
        "plot_sample(x_train,y_train, 113)"
      ],
      "metadata": {
        "colab": {
          "base_uri": "https://localhost:8080/",
          "height": 313
        },
        "id": "E06tYBWartrr",
        "outputId": "1714ac9e-1c8f-4cac-9b2e-193862b3f67d"
      },
      "execution_count": null,
      "outputs": [
        {
          "output_type": "display_data",
          "data": {
            "text/plain": [
              "<Figure size 1000x300 with 1 Axes>"
            ],
            "image/png": "[encoded data removed]"
          },
          "metadata": {}
        }
      ]
    },
    {
      "cell_type": "code",
      "source": [
        "x_train=x_train/255.0 #data normalization from 0-1\n",
        "x_test=x_test/255.0"
      ],
      "metadata": {
        "id": "I1J5aKKJtWP-"
      },
      "execution_count": null,
      "outputs": []
    },
    {
      "cell_type": "code",
      "source": [
        "#now we will build a simple ann to check how it works before building an cnn"
      ],
      "metadata": {
        "id": "as5-viUq5q4z"
      },
      "execution_count": null,
      "outputs": []
    },
    {
      "cell_type": "code",
      "source": [
        "ann=models.Sequential([\n",
        "    layers.Flatten(input_shape=(32,32,3)), #used to flatten the input, which means it reshapes the input tensor into a 1D array.\n",
        "    layers.Dense(3000,activation='relu'),\n",
        "    layers.Dense(1000,activation='relu'),\n",
        "    layers.Dense(10,activation='sigmoid')\n",
        "])"
      ],
      "metadata": {
        "id": "YHoiaOEOpvuB"
      },
      "execution_count": null,
      "outputs": []
    },
    {
      "cell_type": "code",
      "source": [
        "ann.compile(optimizer=\"SGD\",loss=\"sparse_categorical_crossentropy\", metrics=['accuracy'])"
      ],
      "metadata": {
        "id": "t1oubaArv1A1"
      },
      "execution_count": null,
      "outputs": []
    },
    {
      "cell_type": "code",
      "source": [
        "ann.fit(x_train,y_train,epochs=3)"
      ],
      "metadata": {
        "id": "_T-MPGzkwd6_",
        "colab": {
          "base_uri": "https://localhost:8080/"
        },
        "outputId": "f4c7c70b-690e-46ff-9fa5-c6110aabbfed"
      },
      "execution_count": null,
      "outputs": [
        {
          "output_type": "stream",
          "name": "stdout",
          "text": [
            "Epoch 1/3\n",
            "1563/1563 [==============================] - 122s 78ms/step - loss: 1.8150 - accuracy: 0.3529\n",
            "Epoch 2/3\n",
            "1563/1563 [==============================] - 121s 78ms/step - loss: 1.6247 - accuracy: 0.4271\n",
            "Epoch 3/3\n",
            "1563/1563 [==============================] - 125s 80ms/step - loss: 1.5419 - accuracy: 0.4570\n"
          ]
        },
        {
          "output_type": "execute_result",
          "data": {
            "text/plain": [
              "<keras.src.callbacks.History at 0x7e2f14f52b30>"
            ]
          },
          "metadata": {},
          "execution_count": 16
        }
      ]
    },
    {
      "cell_type": "code",
      "source": [
        "from sklearn.metrics import confusion_matrix, classification_report\n",
        "import numpy as np\n",
        "y_pred=ann.predict(x_test)\n",
        "y_pred_classes=[np.argmax(element) for element in y_pred]\n",
        "\n",
        "print('classification : \\n',classification_report(y_test, y_pred_classes))\n"
      ],
      "metadata": {
        "id": "6JQlgTGQ9s0T",
        "colab": {
          "base_uri": "https://localhost:8080/"
        },
        "outputId": "21e6e943-8174-42b1-99ef-7ea66f90195e"
      },
      "execution_count": null,
      "outputs": [
        {
          "output_type": "stream",
          "name": "stdout",
          "text": [
            "313/313 [==============================] - 8s 24ms/step\n",
            "classification : \n",
            "               precision    recall  f1-score   support\n",
            "\n",
            "           0       0.41      0.65      0.51      1000\n",
            "           1       0.55      0.62      0.58      1000\n",
            "           2       0.36      0.31      0.33      1000\n",
            "           3       0.37      0.26      0.31      1000\n",
            "           4       0.56      0.22      0.31      1000\n",
            "           5       0.40      0.33      0.36      1000\n",
            "           6       0.50      0.55      0.52      1000\n",
            "           7       0.45      0.60      0.51      1000\n",
            "           8       0.60      0.61      0.60      1000\n",
            "           9       0.50      0.54      0.52      1000\n",
            "\n",
            "    accuracy                           0.47     10000\n",
            "   macro avg       0.47      0.47      0.46     10000\n",
            "weighted avg       0.47      0.47      0.46     10000\n",
            "\n"
          ]
        }
      ]
    },
    {
      "cell_type": "code",
      "source": [
        "cnn=models.Sequential([\n",
        "    layers.Conv2D(filters=32,kernel_size=(3,3), activation='relu', input_shape=(32,32,3)),\n",
        "    layers.MaxPooling2D((2,2)),\n",
        "    layers.Conv2D(filters=32,kernel_size=(3,3), activation='relu'),\n",
        "    layers.MaxPooling2D((2,2)),\n",
        "\n",
        "    layers.Flatten(),\n",
        "    layers.Dense(3000,activation='relu'),\n",
        "    layers.Dense(64,activation='relu'),\n",
        "    layers.Dense(10,activation='softmax')\n",
        "])"
      ],
      "metadata": {
        "id": "KmW9V0_l-d86"
      },
      "execution_count": null,
      "outputs": []
    },
    {
      "cell_type": "code",
      "source": [
        "cnn.compile(optimizer=\"SGD\",loss=\"sparse_categorical_crossentropy\", metrics=['accuracy'])"
      ],
      "metadata": {
        "id": "GIU1DmQGUOmk"
      },
      "execution_count": null,
      "outputs": []
    },
    {
      "cell_type": "code",
      "source": [
        "cnn.fit(x_train,y_train,epochs=15)"
      ],
      "metadata": {
        "id": "qYg3ppnhUkwE",
        "colab": {
          "base_uri": "https://localhost:8080/"
        },
        "outputId": "ae83834a-1a8e-48cf-835e-4dbcf33d1972"
      },
      "execution_count": null,
      "outputs": [
        {
          "output_type": "stream",
          "name": "stdout",
          "text": [
            "Epoch 1/15\n",
            "1563/1563 [==============================] - 101s 64ms/step - loss: 1.9831 - accuracy: 0.2800\n",
            "Epoch 2/15\n",
            "1563/1563 [==============================] - 91s 58ms/step - loss: 1.5531 - accuracy: 0.4426\n",
            "Epoch 3/15\n",
            "1563/1563 [==============================] - 91s 58ms/step - loss: 1.3791 - accuracy: 0.5077\n",
            "Epoch 4/15\n",
            "1563/1563 [==============================] - 87s 56ms/step - loss: 1.2587 - accuracy: 0.5554\n",
            "Epoch 5/15\n",
            "1563/1563 [==============================] - 88s 56ms/step - loss: 1.1573 - accuracy: 0.5955\n",
            "Epoch 6/15\n",
            "1563/1563 [==============================] - 88s 56ms/step - loss: 1.0690 - accuracy: 0.6247\n",
            "Epoch 7/15\n",
            "1563/1563 [==============================] - 90s 58ms/step - loss: 0.9836 - accuracy: 0.6590\n",
            "Epoch 8/15\n",
            "1563/1563 [==============================] - 86s 55ms/step - loss: 0.9028 - accuracy: 0.6862\n",
            "Epoch 9/15\n",
            "1563/1563 [==============================] - 89s 57ms/step - loss: 0.8260 - accuracy: 0.7136\n",
            "Epoch 10/15\n",
            "1563/1563 [==============================] - 85s 54ms/step - loss: 0.7468 - accuracy: 0.7420\n",
            "Epoch 11/15\n",
            "1563/1563 [==============================] - 86s 55ms/step - loss: 0.6682 - accuracy: 0.7688\n",
            "Epoch 12/15\n",
            "1563/1563 [==============================] - 87s 55ms/step - loss: 0.5875 - accuracy: 0.7992\n",
            "Epoch 13/15\n",
            "1563/1563 [==============================] - 85s 54ms/step - loss: 0.5044 - accuracy: 0.8263\n",
            "Epoch 14/15\n",
            "1563/1563 [==============================] - 87s 56ms/step - loss: 0.4225 - accuracy: 0.8573\n",
            "Epoch 15/15\n",
            "1563/1563 [==============================] - 85s 54ms/step - loss: 0.3486 - accuracy: 0.8828\n"
          ]
        },
        {
          "output_type": "execute_result",
          "data": {
            "text/plain": [
              "<keras.src.callbacks.History at 0x7e2eb1a8f760>"
            ]
          },
          "metadata": {},
          "execution_count": 33
        }
      ]
    },
    {
      "cell_type": "code",
      "source": [
        "cnn.evaluate(x_test,y_test)"
      ],
      "metadata": {
        "id": "1tOdyImVUy3Z",
        "colab": {
          "base_uri": "https://localhost:8080/"
        },
        "outputId": "32e57067-97f2-4457-fe5c-931d4ec91280"
      },
      "execution_count": null,
      "outputs": [
        {
          "output_type": "stream",
          "name": "stdout",
          "text": [
            "313/313 [==============================] - 5s 15ms/step - loss: 1.1821 - accuracy: 0.6634\n"
          ]
        },
        {
          "output_type": "execute_result",
          "data": {
            "text/plain": [
              "[1.1820605993270874, 0.6633999943733215]"
            ]
          },
          "metadata": {},
          "execution_count": 34
        }
      ]
    }
  ]
}